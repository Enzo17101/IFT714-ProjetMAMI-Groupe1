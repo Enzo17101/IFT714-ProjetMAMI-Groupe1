{
 "cells": [
  {
   "cell_type": "code",
   "execution_count": 3,
   "id": "e69de2f5900d2fd8",
   "metadata": {
    "ExecuteTime": {
     "end_time": "2025-03-27T16:35:34.582988Z",
     "start_time": "2025-03-27T16:35:18.970401Z"
    }
   },
   "outputs": [
    {
     "name": "stderr",
     "output_type": "stream",
     "text": [
      "C:\\Users\\dragi\\AppData\\Local\\Packages\\PythonSoftwareFoundation.Python.3.11_qbz5n2kfra8p0\\LocalCache\\local-packages\\Python311\\site-packages\\tqdm\\auto.py:21: TqdmWarning: IProgress not found. Please update jupyter and ipywidgets. See https://ipywidgets.readthedocs.io/en/stable/user_install.html\n",
      "  from .autonotebook import tqdm as notebook_tqdm\n"
     ]
    }
   ],
   "source": [
    "import pandas as pd\n",
    "import torch\n",
    "from torch.utils.data import DataLoader\n",
    "from sklearn.model_selection import train_test_split\n",
    "from model_clip_bert import MultimodalDataset, MultimodalClassifier, evaluate_model\n",
    "from tqdm import tqdm\n"
   ]
  },
  {
   "cell_type": "code",
   "execution_count": 4,
   "id": "851e5326",
   "metadata": {},
   "outputs": [
    {
     "name": "stdout",
     "output_type": "stream",
     "text": [
      "Device: cpu\n"
     ]
    }
   ],
   "source": [
    "# 2. Vérification du device\n",
    "device = torch.device(\"cuda\" if torch.cuda.is_available() else \"cpu\")\n",
    "print(\"Device:\", device)"
   ]
  },
  {
   "cell_type": "code",
   "execution_count": 9,
   "id": "a9b5a7645904d6c8",
   "metadata": {
    "ExecuteTime": {
     "end_time": "2025-03-27T16:35:34.649039Z",
     "start_time": "2025-03-27T16:35:34.602437Z"
    }
   },
   "outputs": [],
   "source": [
    "# 3. Charger les données\n",
    "train_df = pd.read_csv(\"../preprocessing_for_CLIP/train.csv\")  # Doit contenir : file_name, text, label\n",
    "test_texts = pd.read_csv(\"../preprocessing_for_CLIP/test_texts.csv\")\n",
    "test_labels = pd.read_csv(\"../preprocessing_for_CLIP/test_labels.csv\")\n",
    "test_df = pd.merge(test_texts, test_labels, on=\"file_name\")\n",
    "\n",
    "# 4. Séparation train/val\n",
    "train_data, val_data = train_test_split(train_df, test_size=0.1, random_state=42)\n",
    "\n",
    "# 5. Créer les datasets\n",
    "train_dataset = MultimodalDataset(train_data, image_dir=\"../Dataset/TRAINING\")\n",
    "val_dataset = MultimodalDataset(val_data, image_dir=\"../Dataset/TRAINING\")\n",
    "test_dataset = MultimodalDataset(test_df, image_dir=\"../Dataset/test\")\n",
    "\n",
    "train_loader = DataLoader(train_dataset, batch_size=8, shuffle=True)\n",
    "val_loader = DataLoader(val_dataset, batch_size=8)\n",
    "test_loader = DataLoader(test_dataset, batch_size=8)\n"
   ]
  },
  {
   "cell_type": "code",
   "execution_count": 10,
   "id": "95fd8d7cfaecaa0a",
   "metadata": {
    "ExecuteTime": {
     "end_time": "2025-03-27T16:36:37.580490Z",
     "start_time": "2025-03-27T16:36:35.121092Z"
    }
   },
   "outputs": [],
   "source": [
    "# 6. Charger le modèle\n",
    "model = MultimodalClassifier().to(device)\n",
    "\n",
    "# 7. Définir l'optimizer et la loss\n",
    "optimizer = torch.optim.AdamW(model.parameters(), lr=2e-5)\n",
    "criterion = torch.nn.CrossEntropyLoss()"
   ]
  },
  {
   "cell_type": "code",
   "execution_count": 11,
   "id": "7d48c7f9d4d837f",
   "metadata": {
    "ExecuteTime": {
     "end_time": "2025-03-27T16:51:33.106511Z",
     "start_time": "2025-03-27T16:51:33.097189Z"
    }
   },
   "outputs": [
    {
     "name": "stderr",
     "output_type": "stream",
     "text": [
      "100%|██████████| 1125/1125 [1:32:55<00:00,  4.96s/it]\n"
     ]
    },
    {
     "name": "stdout",
     "output_type": "stream",
     "text": [
      "Epoch 1 - Loss: 0.5261\n",
      "Validation Accuracy: 0.8160, F1 Score: 0.8333\n"
     ]
    },
    {
     "name": "stderr",
     "output_type": "stream",
     "text": [
      "100%|██████████| 1125/1125 [1:36:04<00:00,  5.12s/it]\n"
     ]
    },
    {
     "name": "stdout",
     "output_type": "stream",
     "text": [
      "Epoch 2 - Loss: 0.3613\n",
      "Validation Accuracy: 0.8190, F1 Score: 0.8227\n"
     ]
    },
    {
     "name": "stderr",
     "output_type": "stream",
     "text": [
      "100%|██████████| 1125/1125 [1:38:08<00:00,  5.23s/it]\n"
     ]
    },
    {
     "name": "stdout",
     "output_type": "stream",
     "text": [
      "Epoch 3 - Loss: 0.2226\n",
      "Validation Accuracy: 0.8190, F1 Score: 0.8241\n",
      "=== Test Results ===\n",
      "Accuracy: 0.6640\n",
      "F1 Score : 0.7133\n"
     ]
    }
   ],
   "source": [
    "# 8. Entraînement\n",
    "for epoch in range(3):\n",
    "    model.train()\n",
    "    running_loss = 0.0\n",
    "    for batch in tqdm(train_loader):\n",
    "        optimizer.zero_grad()\n",
    "        logits = model(\n",
    "            text_input_ids=batch[\"text_input_ids\"].to(device),\n",
    "            text_attention_mask=batch[\"text_attention_mask\"].to(device),\n",
    "            image_pixel_values=batch[\"image_pixel_values\"].to(device),\n",
    "        )\n",
    "        loss = criterion(logits, batch[\"label\"].to(device))\n",
    "        loss.backward()\n",
    "        optimizer.step()\n",
    "        running_loss += loss.item()\n",
    "    print(f\"Epoch {epoch+1} - Loss: {running_loss/len(train_loader):.4f}\")\n",
    "\n",
    "    val_acc, val_f1 = evaluate_model(model, val_loader, device)\n",
    "    print(f\"Validation Accuracy: {val_acc:.4f}, F1 Score: {val_f1:.4f}\")\n",
    "\n",
    "# 9. Test final\n",
    "test_acc, test_f1 = evaluate_model(model, test_loader, device)\n",
    "print(\"=== Test Results ===\")\n",
    "print(f\"Accuracy: {test_acc:.4f}\")\n",
    "print(f\"F1 Score : {test_f1:.4f}\")"
   ]
  }
 ],
 "metadata": {
  "kernelspec": {
   "display_name": "Python 3",
   "language": "python",
   "name": "python3"
  },
  "language_info": {
   "codemirror_mode": {
    "name": "ipython",
    "version": 3
   },
   "file_extension": ".py",
   "mimetype": "text/x-python",
   "name": "python",
   "nbconvert_exporter": "python",
   "pygments_lexer": "ipython3",
   "version": "3.11.9"
  }
 },
 "nbformat": 4,
 "nbformat_minor": 5
}
