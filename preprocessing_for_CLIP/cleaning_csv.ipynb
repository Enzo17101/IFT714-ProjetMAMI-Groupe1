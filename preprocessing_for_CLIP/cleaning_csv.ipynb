{
 "cells": [
  {
   "cell_type": "code",
   "id": "initial_id",
   "metadata": {
    "collapsed": true,
    "ExecuteTime": {
     "end_time": "2025-03-12T23:43:01.290368Z",
     "start_time": "2025-03-12T23:43:01.285328Z"
    }
   },
   "source": [
    "import csv\n",
    "import os\n",
    "import re\n",
    "import pandas as pd"
   ],
   "outputs": [],
   "execution_count": 19
  },
  {
   "metadata": {
    "ExecuteTime": {
     "end_time": "2025-03-12T23:43:02.413927Z",
     "start_time": "2025-03-12T23:43:02.393481Z"
    }
   },
   "cell_type": "code",
   "source": [
    "current_dir = os.getcwd()\n",
    "print(\"Répertoire courant :\", current_dir)\n",
    "parent_dir = os.path.dirname(current_dir)\n",
    "input_txt_path = os.path.join(parent_dir, 'dataset', 'test', 'test_labels.txt')\n",
    "output_csv_path = os.path.join(current_dir,'test_labels.csv')\n",
    "   \n",
    "print(\"Chemin d'entrée :\", input_txt_path)\n",
    "print(\"Chemin de sortie :\", output_csv_path)\n",
    "\n",
    "with open(input_txt_path, 'r', encoding='utf-8') as f_in, \\\n",
    "         open(output_csv_path, 'w', newline='', encoding='utf-8') as f_out:\n",
    "        writer = csv.writer(f_out)\n",
    "        writer.writerow([\"image\", \"label\"])\n",
    "        for line in f_in:\n",
    "            parts = line.strip().split()\n",
    "            image_name = parts[0]\n",
    "            binary_label = parts[1]\n",
    "            writer.writerow([image_name, binary_label])\n"
   ],
   "id": "4ce566dbc88283f9",
   "outputs": [
    {
     "name": "stdout",
     "output_type": "stream",
     "text": [
      "Répertoire courant : C:\\Users\\henor\\PycharmProjects\\IFT714-ProjetMAMI-Groupe1\\preprocessing_for_CLIP\n",
      "Chemin d'entrée : C:\\Users\\henor\\PycharmProjects\\IFT714-ProjetMAMI-Groupe1\\dataset\\test\\test_labels.txt\n",
      "Chemin de sortie : C:\\Users\\henor\\PycharmProjects\\IFT714-ProjetMAMI-Groupe1\\preprocessing_for_CLIP\\test_labels.csv\n"
     ]
    }
   ],
   "execution_count": 20
  },
  {
   "metadata": {
    "ExecuteTime": {
     "end_time": "2025-03-12T23:43:04.659987Z",
     "start_time": "2025-03-12T23:43:04.650038Z"
    }
   },
   "cell_type": "code",
   "source": [
    "def normalize_text(text: str) -> str:\n",
    "    text = text.lower()\n",
    "    text = re.sub(r'[^a-z0-9\\s]', '', text)\n",
    "    text = re.sub(r'\\s+', ' ', text).strip()\n",
    "    return text"
   ],
   "id": "40a5b4a855c5dcd2",
   "outputs": [],
   "execution_count": 21
  },
  {
   "metadata": {
    "ExecuteTime": {
     "end_time": "2025-03-12T23:43:20.300147Z",
     "start_time": "2025-03-12T23:43:20.255542Z"
    }
   },
   "cell_type": "code",
   "source": [
    "current_dir = os.getcwd()\n",
    "print(\"Répertoire courant :\", current_dir)\n",
    "parent_dir = os.path.dirname(current_dir)\n",
    "input_csv_path_test = os.path.join(parent_dir, 'dataset', 'test', 'Test.csv')\n",
    "\n",
    "df = pd.read_csv(input_csv_path_test, sep='\\t', encoding=\"utf-8-sig\",header=0)\n",
    "df.rename(columns={\"Text Transcription\": \"text\"}, inplace=True)\n",
    "df[\"text\"] = df[\"text\"].apply(normalize_text)\n",
    "df.to_csv(\"test_texts.csv\", index=False, encoding=\"utf-8\")\n",
    "print(\"Fichier test_text.csv créé avec succès !\")"
   ],
   "id": "16d1d40065f1394b",
   "outputs": [
    {
     "name": "stdout",
     "output_type": "stream",
     "text": [
      "Répertoire courant : C:\\Users\\henor\\PycharmProjects\\IFT714-ProjetMAMI-Groupe1\\preprocessing_for_CLIP\n",
      "Fichier test_text.csv créé avec succès !\n"
     ]
    }
   ],
   "execution_count": 22
  },
  {
   "metadata": {
    "ExecuteTime": {
     "end_time": "2025-03-12T23:41:49.086630Z",
     "start_time": "2025-03-12T23:41:48.873720Z"
    }
   },
   "cell_type": "code",
   "source": [
    "current_dir = os.getcwd()\n",
    "print(\"Répertoire courant :\", current_dir)\n",
    "parent_dir = os.path.dirname(current_dir)\n",
    "input_csv_path_test = os.path.join(parent_dir, 'dataset', 'TRAINING', 'training.csv')\n",
    "\n",
    "df = pd.read_csv(input_csv_path_test, sep='\\t', encoding=\"utf-8-sig\",header=0)\n",
    "df.rename(columns={\"Text Transcription\": \"text\"}, inplace=True)\n",
    "df.rename(columns={\"misogynous\": \"label\"}, inplace=True)\n",
    "df.drop(columns=[\"stereotype\",\"shaming\",\"violence\",\"objectification\"], inplace=True)\n",
    "df[\"text\"] = df[\"text\"].apply(normalize_text)\n",
    "df.to_csv(\"train.csv\", index=False, encoding=\"utf-8\")\n",
    "print(\"Fichier train.csv créé avec succès !\")"
   ],
   "id": "b4ae96bb725c7ca5",
   "outputs": [
    {
     "name": "stdout",
     "output_type": "stream",
     "text": [
      "Répertoire courant : C:\\Users\\henor\\PycharmProjects\\IFT714-ProjetMAMI-Groupe1\\preprocessing_for_CLIP\n",
      "Fichier train.csv créé avec succès !\n"
     ]
    }
   ],
   "execution_count": 18
  },
  {
   "metadata": {
    "ExecuteTime": {
     "end_time": "2025-03-12T23:41:49.119842Z",
     "start_time": "2025-03-12T23:41:49.115364Z"
    }
   },
   "cell_type": "code",
   "source": "",
   "id": "d7d44b7c240ae327",
   "outputs": [],
   "execution_count": null
  }
 ],
 "metadata": {
  "kernelspec": {
   "display_name": "Python 3",
   "language": "python",
   "name": "python3"
  },
  "language_info": {
   "codemirror_mode": {
    "name": "ipython",
    "version": 2
   },
   "file_extension": ".py",
   "mimetype": "text/x-python",
   "name": "python",
   "nbconvert_exporter": "python",
   "pygments_lexer": "ipython2",
   "version": "2.7.6"
  }
 },
 "nbformat": 4,
 "nbformat_minor": 5
}
