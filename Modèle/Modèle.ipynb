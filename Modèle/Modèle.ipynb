{
 "cells": [
  {
   "cell_type": "code",
   "id": "initial_id",
   "metadata": {
    "collapsed": true,
    "ExecuteTime": {
     "end_time": "2025-03-14T14:04:42.299089Z",
     "start_time": "2025-03-14T14:04:42.295306Z"
    }
   },
   "source": [
    "import pandas as pd\n",
    "import torch\n",
    "from sklearn.model_selection import train_test_split\n",
    "from transformers import DistilBertTokenizer, DistilBertForSequenceClassification, Trainer, TrainingArguments\n",
    "from torch.utils.data import Dataset\n",
    "from transformers import default_data_collator"
   ],
   "outputs": [],
   "execution_count": 12
  },
  {
   "metadata": {
    "ExecuteTime": {
     "end_time": "2025-03-14T14:04:42.348103Z",
     "start_time": "2025-03-14T14:04:42.317264Z"
    }
   },
   "cell_type": "code",
   "source": [
    "# Charger les données\n",
    "train_df = pd.read_csv(\"../preprocessing/train.csv\")\n",
    "test_df = pd.read_csv(\"../preprocessing/test.csv\")\n",
    "\n",
    "# Nettoyage des données\n",
    "train_df.dropna(inplace=True)\n",
    "test_df.dropna(inplace=True)"
   ],
   "id": "907d79518157a01",
   "outputs": [],
   "execution_count": 13
  },
  {
   "metadata": {
    "ExecuteTime": {
     "end_time": "2025-03-14T14:04:42.433677Z",
     "start_time": "2025-03-14T14:04:42.351102Z"
    }
   },
   "cell_type": "code",
   "source": [
    "# Tokenizer de DistilBERT\n",
    "tokenizer = DistilBertTokenizer.from_pretrained(\"distilbert-base-uncased\")"
   ],
   "id": "5e4df0ccbc2b6177",
   "outputs": [],
   "execution_count": 14
  },
  {
   "metadata": {
    "ExecuteTime": {
     "end_time": "2025-03-14T14:04:42.452365Z",
     "start_time": "2025-03-14T14:04:42.445902Z"
    }
   },
   "cell_type": "code",
   "source": [
    "class MemeDataset(Dataset):\n",
    "    def __init__(self, texts, labels):\n",
    "        self.texts = texts\n",
    "        self.labels = labels\n",
    "\n",
    "    def __len__(self):\n",
    "        return len(self.texts)\n",
    "\n",
    "    def __getitem__(self, idx):\n",
    "        text = self.texts[idx]\n",
    "        label = self.labels[idx]\n",
    "        encoding = tokenizer(text, padding=\"max_length\", truncation=True, max_length=64, return_tensors=\"pt\")\n",
    "\n",
    "        return {\n",
    "            \"input_ids\": encoding[\"input_ids\"].squeeze(0),\n",
    "            \"attention_mask\": encoding[\"attention_mask\"].squeeze(0),\n",
    "            \"labels\": torch.tensor(label, dtype=torch.long)\n",
    "        }"
   ],
   "id": "6f2950f5954366f9",
   "outputs": [],
   "execution_count": 15
  },
  {
   "metadata": {
    "ExecuteTime": {
     "end_time": "2025-03-14T14:04:43.122703Z",
     "start_time": "2025-03-14T14:04:42.470680Z"
    }
   },
   "cell_type": "code",
   "source": [
    "# Vérifier si CUDA est dispo, sinon forcer CPU\n",
    "device = torch.device(\"cuda\" if torch.cuda.is_available() else \"cpu\")\n",
    "\n",
    "# Préparer les datasets\n",
    "train_dataset = MemeDataset(train_df[\"text\"].tolist(), train_df[\"label\"].tolist())\n",
    "test_dataset = MemeDataset(test_df[\"text\"].tolist(), test_df[\"label\"].tolist())\n",
    "\n",
    "# Charger le modèle DistilBERT (sur le device détecté)\n",
    "model = DistilBertForSequenceClassification.from_pretrained(\"distilbert-base-uncased\", num_labels=2)\n",
    "model.to(device)\n",
    "\n",
    "print(train_dataset[0])"
   ],
   "id": "ed537a188a709ca5",
   "outputs": [
    {
     "name": "stdout",
     "output_type": "stream",
     "text": [
      "cuda\n"
     ]
    },
    {
     "name": "stderr",
     "output_type": "stream",
     "text": [
      "Some weights of DistilBertForSequenceClassification were not initialized from the model checkpoint at distilbert-base-uncased and are newly initialized: ['classifier.bias', 'classifier.weight', 'pre_classifier.bias', 'pre_classifier.weight']\n",
      "You should probably TRAIN this model on a down-stream task to be able to use it for predictions and inference.\n"
     ]
    },
    {
     "name": "stdout",
     "output_type": "stream",
     "text": [
      "cuda:0\n",
      "{'input_ids': tensor([ 101, 6501, 6501, 5831, 2361,  102,    0,    0,    0,    0,    0,    0,\n",
      "           0,    0,    0,    0,    0,    0,    0,    0,    0,    0,    0,    0,\n",
      "           0,    0,    0,    0,    0,    0,    0,    0,    0,    0,    0,    0,\n",
      "           0,    0,    0,    0,    0,    0,    0,    0,    0,    0,    0,    0,\n",
      "           0,    0,    0,    0,    0,    0,    0,    0,    0,    0,    0,    0,\n",
      "           0,    0,    0,    0]), 'attention_mask': tensor([1, 1, 1, 1, 1, 1, 0, 0, 0, 0, 0, 0, 0, 0, 0, 0, 0, 0, 0, 0, 0, 0, 0, 0,\n",
      "        0, 0, 0, 0, 0, 0, 0, 0, 0, 0, 0, 0, 0, 0, 0, 0, 0, 0, 0, 0, 0, 0, 0, 0,\n",
      "        0, 0, 0, 0, 0, 0, 0, 0, 0, 0, 0, 0, 0, 0, 0, 0]), 'labels': tensor(0)}\n"
     ]
    }
   ],
   "execution_count": 16
  },
  {
   "metadata": {
    "ExecuteTime": {
     "end_time": "2025-03-14T14:14:17.314434Z",
     "start_time": "2025-03-14T14:05:44.309989Z"
    }
   },
   "cell_type": "code",
   "source": [
    "# Configuration de l'entraînement optimisée pour CPU\n",
    "training_args = TrainingArguments(\n",
    "    output_dir=\"./results\",\n",
    "    num_train_epochs=5,  # Réduire à 1 époque pour éviter un entraînement trop long\n",
    "    per_device_train_batch_size=4,  # Réduire pour éviter saturation mémoire\n",
    "    per_device_eval_batch_size=4,\n",
    "    warmup_steps=0,\n",
    "    weight_decay=0.01,\n",
    "    logging_dir=\"./logs\",\n",
    "    eval_strategy=\"epoch\",\n",
    "    save_strategy=\"epoch\",\n",
    "    use_cpu=True if device == \"cpu\" else False\n",
    ")\n",
    "\n",
    "trainer = Trainer(\n",
    "    model=model,\n",
    "    args=training_args,\n",
    "    train_dataset=train_dataset,\n",
    "    eval_dataset=test_dataset,\n",
    "    data_collator=default_data_collator  # Ajout de cette ligne\n",
    ")\n",
    "\n",
    "# Entraînement du modèle (cela prendra du temps sur CPU)\n",
    "trainer.train()"
   ],
   "id": "4370951f614bd027",
   "outputs": [
    {
     "name": "stdout",
     "output_type": "stream",
     "text": [
      "cuda:0\n",
      "cuda:0\n"
     ]
    },
    {
     "data": {
      "text/plain": [
       "<IPython.core.display.HTML object>"
      ],
      "text/html": [
       "\n",
       "    <div>\n",
       "      \n",
       "      <progress value='12500' max='12500' style='width:300px; height:20px; vertical-align: middle;'></progress>\n",
       "      [12500/12500 08:32, Epoch 5/5]\n",
       "    </div>\n",
       "    <table border=\"1\" class=\"dataframe\">\n",
       "  <thead>\n",
       " <tr style=\"text-align: left;\">\n",
       "      <th>Epoch</th>\n",
       "      <th>Training Loss</th>\n",
       "      <th>Validation Loss</th>\n",
       "    </tr>\n",
       "  </thead>\n",
       "  <tbody>\n",
       "    <tr>\n",
       "      <td>1</td>\n",
       "      <td>0.539000</td>\n",
       "      <td>1.034594</td>\n",
       "    </tr>\n",
       "    <tr>\n",
       "      <td>2</td>\n",
       "      <td>0.420600</td>\n",
       "      <td>1.351465</td>\n",
       "    </tr>\n",
       "    <tr>\n",
       "      <td>3</td>\n",
       "      <td>0.264100</td>\n",
       "      <td>1.779183</td>\n",
       "    </tr>\n",
       "    <tr>\n",
       "      <td>4</td>\n",
       "      <td>0.164400</td>\n",
       "      <td>1.987231</td>\n",
       "    </tr>\n",
       "    <tr>\n",
       "      <td>5</td>\n",
       "      <td>0.078700</td>\n",
       "      <td>2.318635</td>\n",
       "    </tr>\n",
       "  </tbody>\n",
       "</table><p>"
      ]
     },
     "metadata": {},
     "output_type": "display_data"
    },
    {
     "data": {
      "text/plain": [
       "TrainOutput(global_step=12500, training_loss=0.2816547351074219, metrics={'train_runtime': 512.672, 'train_samples_per_second': 97.528, 'train_steps_per_second': 24.382, 'total_flos': 827921241600000.0, 'train_loss': 0.2816547351074219, 'epoch': 5.0})"
      ]
     },
     "execution_count": 18,
     "metadata": {},
     "output_type": "execute_result"
    }
   ],
   "execution_count": 18
  },
  {
   "metadata": {
    "ExecuteTime": {
     "end_time": "2025-03-14T14:14:42.715474Z",
     "start_time": "2025-03-14T14:14:40.687493Z"
    }
   },
   "cell_type": "code",
   "source": [
    "# Évaluation\n",
    "results = trainer.evaluate()\n",
    "print(results)\n",
    "\n",
    "# Sauvegarde du modèle\n",
    "model.save_pretrained(\"distilbert-misogyny-detector\")\n",
    "tokenizer.save_pretrained(\"distilbert-misogyny-detector\")"
   ],
   "id": "fc7ae0b810794a2e",
   "outputs": [
    {
     "data": {
      "text/plain": [
       "<IPython.core.display.HTML object>"
      ],
      "text/html": []
     },
     "metadata": {},
     "output_type": "display_data"
    },
    {
     "name": "stdout",
     "output_type": "stream",
     "text": [
      "{'eval_loss': 2.3186354637145996, 'eval_runtime': 1.7964, 'eval_samples_per_second': 556.68, 'eval_steps_per_second': 139.17, 'epoch': 5.0}\n"
     ]
    },
    {
     "data": {
      "text/plain": [
       "('distilbert-misogyny-detector\\\\tokenizer_config.json',\n",
       " 'distilbert-misogyny-detector\\\\special_tokens_map.json',\n",
       " 'distilbert-misogyny-detector\\\\vocab.txt',\n",
       " 'distilbert-misogyny-detector\\\\added_tokens.json')"
      ]
     },
     "execution_count": 19,
     "metadata": {},
     "output_type": "execute_result"
    }
   ],
   "execution_count": 19
  },
  {
   "metadata": {
    "ExecuteTime": {
     "end_time": "2025-03-14T14:15:16.510324Z",
     "start_time": "2025-03-14T14:15:10.580334Z"
    }
   },
   "cell_type": "code",
   "source": [
    "import evaluate\n",
    "\n",
    "# Charger la métrique d'accuracy\n",
    "metric = evaluate.load(\"accuracy\")\n",
    "# Fonction de calcul des métriques pour Trainer\n",
    "def compute_metrics(eval_pred):\n",
    "    logits, labels = eval_pred\n",
    "    predictions = logits.argmax(axis=-1)\n",
    "    return metric.compute(predictions=predictions, references=labels)\n",
    "\n",
    "# Réassigner la fonction au Trainer\n",
    "trainer.compute_metrics = compute_metrics\n",
    "\n",
    "# Évaluer le modèle sur le dataset de test\n",
    "results = trainer.evaluate()\n",
    "print(\"Résultats de l'évaluation :\", results)"
   ],
   "id": "78bb1b0aebe44f",
   "outputs": [
    {
     "name": "stderr",
     "output_type": "stream",
     "text": [
      "Downloading builder script: 100%|██████████| 4.20k/4.20k [00:00<?, ?B/s]\n"
     ]
    },
    {
     "name": "stdout",
     "output_type": "stream",
     "text": [
      "Résultats de l'évaluation : {'eval_loss': 2.3186354637145996, 'eval_accuracy': 0.649, 'eval_runtime': 2.7041, 'eval_samples_per_second': 369.815, 'eval_steps_per_second': 92.454, 'epoch': 5.0}\n"
     ]
    }
   ],
   "execution_count": 21
  },
  {
   "metadata": {
    "ExecuteTime": {
     "end_time": "2025-03-14T14:17:25.122217Z",
     "start_time": "2025-03-14T14:17:23.168422Z"
    }
   },
   "cell_type": "code",
   "source": [
    "import numpy as np\n",
    "\n",
    "# Obtenir les prédictions sur le test set\n",
    "predictions = trainer.predict(test_dataset)\n",
    "logits = predictions.predictions\n",
    "y_pred = np.argmax(logits, axis=-1)\n",
    "\n",
    "# Afficher la distribution des classes prédites\n",
    "unique, counts = np.unique(y_pred, return_counts=True)\n",
    "class_distribution = dict(zip(unique, counts))\n",
    "\n",
    "print(\"Distribution des prédictions :\", class_distribution)\n"
   ],
   "id": "a38b161c87ad2892",
   "outputs": [
    {
     "data": {
      "text/plain": [
       "<IPython.core.display.HTML object>"
      ],
      "text/html": []
     },
     "metadata": {},
     "output_type": "display_data"
    },
    {
     "ename": "AttributeError",
     "evalue": "'dict' object has no attribute 'tolist'",
     "output_type": "error",
     "traceback": [
      "\u001B[31m---------------------------------------------------------------------------\u001B[39m",
      "\u001B[31mAttributeError\u001B[39m                            Traceback (most recent call last)",
      "\u001B[36mCell\u001B[39m\u001B[36m \u001B[39m\u001B[32mIn[24]\u001B[39m\u001B[32m, line 11\u001B[39m\n\u001B[32m      9\u001B[39m unique, counts = np.unique(y_pred, return_counts=\u001B[38;5;28;01mTrue\u001B[39;00m)\n\u001B[32m     10\u001B[39m class_distribution = \u001B[38;5;28mdict\u001B[39m(\u001B[38;5;28mzip\u001B[39m(unique, counts))\n\u001B[32m---> \u001B[39m\u001B[32m11\u001B[39m class_distribution = \u001B[43mclass_distribution\u001B[49m\u001B[43m.\u001B[49m\u001B[43mtolist\u001B[49m()\n\u001B[32m     13\u001B[39m \u001B[38;5;28mprint\u001B[39m(\u001B[33m\"\u001B[39m\u001B[33mDistribution des prédictions :\u001B[39m\u001B[33m\"\u001B[39m, class_distribution)\n",
      "\u001B[31mAttributeError\u001B[39m: 'dict' object has no attribute 'tolist'"
     ]
    }
   ],
   "execution_count": 24
  },
  {
   "metadata": {
    "ExecuteTime": {
     "end_time": "2025-03-14T14:15:59.850713Z",
     "start_time": "2025-03-14T14:15:59.836776Z"
    }
   },
   "cell_type": "code",
   "source": [
    "# Compter le nombre d'exemples dans chaque classe dans le dataset d'entraînement\n",
    "train_label_counts = train_df[\"label\"].value_counts()\n",
    "print(\"Répartition des labels dans le dataset d'entraînement :\\n\", train_label_counts)\n"
   ],
   "id": "449c9bfa719be5f3",
   "outputs": [
    {
     "name": "stdout",
     "output_type": "stream",
     "text": [
      "Répartition des labels dans le dataset d'entraînement :\n",
      " label\n",
      "0    5000\n",
      "1    5000\n",
      "Name: count, dtype: int64\n"
     ]
    }
   ],
   "execution_count": 23
  },
  {
   "metadata": {},
   "cell_type": "code",
   "outputs": [],
   "execution_count": null,
   "source": "",
   "id": "9cfb23c3b94e90e3"
  }
 ],
 "metadata": {
  "kernelspec": {
   "display_name": "Python 3",
   "language": "python",
   "name": "python3"
  },
  "language_info": {
   "codemirror_mode": {
    "name": "ipython",
    "version": 2
   },
   "file_extension": ".py",
   "mimetype": "text/x-python",
   "name": "python",
   "nbconvert_exporter": "python",
   "pygments_lexer": "ipython2",
   "version": "2.7.6"
  }
 },
 "nbformat": 4,
 "nbformat_minor": 5
}
