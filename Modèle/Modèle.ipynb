{
 "cells": [
  {
   "cell_type": "code",
   "id": "initial_id",
   "metadata": {
    "collapsed": true,
    "ExecuteTime": {
     "end_time": "2025-03-13T22:44:22.138205Z",
     "start_time": "2025-03-13T22:44:11.307558Z"
    }
   },
   "source": [
    "import pandas as pd\n",
    "import torch\n",
    "from sklearn.model_selection import train_test_split\n",
    "from transformers import DistilBertTokenizer, DistilBertForSequenceClassification, Trainer, TrainingArguments\n",
    "from torch.utils.data import Dataset\n",
    "from transformers import default_data_collator"
   ],
   "outputs": [],
   "execution_count": 1
  },
  {
   "metadata": {
    "ExecuteTime": {
     "end_time": "2025-03-13T22:44:25.146265Z",
     "start_time": "2025-03-13T22:44:25.112937Z"
    }
   },
   "cell_type": "code",
   "source": [
    "# Charger les données\n",
    "train_df = pd.read_csv(\"../preprocessing/train.csv\")\n",
    "test_df = pd.read_csv(\"../preprocessing/test.csv\")\n",
    "\n",
    "# Nettoyage des données\n",
    "train_df.dropna(inplace=True)\n",
    "test_df.dropna(inplace=True)"
   ],
   "id": "907d79518157a01",
   "outputs": [],
   "execution_count": 2
  },
  {
   "metadata": {
    "ExecuteTime": {
     "end_time": "2025-03-13T22:44:28.687035Z",
     "start_time": "2025-03-13T22:44:28.472639Z"
    }
   },
   "cell_type": "code",
   "source": [
    "# Tokenizer de DistilBERT\n",
    "tokenizer = DistilBertTokenizer.from_pretrained(\"distilbert-base-uncased\")"
   ],
   "id": "5e4df0ccbc2b6177",
   "outputs": [],
   "execution_count": 3
  },
  {
   "metadata": {
    "ExecuteTime": {
     "end_time": "2025-03-13T22:44:33.186648Z",
     "start_time": "2025-03-13T22:44:33.180226Z"
    }
   },
   "cell_type": "code",
   "source": [
    "class MemeDataset(Dataset):\n",
    "    def __init__(self, texts, labels):\n",
    "        self.texts = texts\n",
    "        self.labels = labels\n",
    "\n",
    "    def __len__(self):\n",
    "        return len(self.texts)\n",
    "\n",
    "    def __getitem__(self, idx):\n",
    "        text = self.texts[idx]\n",
    "        label = self.labels[idx]\n",
    "        encoding = tokenizer(text, padding=\"max_length\", truncation=True, max_length=64, return_tensors=\"pt\")\n",
    "\n",
    "        return {\n",
    "            \"input_ids\": encoding[\"input_ids\"].squeeze(0),\n",
    "            \"attention_mask\": encoding[\"attention_mask\"].squeeze(0),\n",
    "            \"labels\": torch.tensor(label, dtype=torch.long)\n",
    "        }"
   ],
   "id": "6f2950f5954366f9",
   "outputs": [],
   "execution_count": 4
  },
  {
   "metadata": {
    "ExecuteTime": {
     "end_time": "2025-03-13T22:44:36.965242Z",
     "start_time": "2025-03-13T22:44:36.796215Z"
    }
   },
   "cell_type": "code",
   "source": [
    "# Vérifier si CUDA est dispo, sinon forcer CPU\n",
    "device = torch.device(\"cpu\")\n",
    "\n",
    "# Préparer les datasets\n",
    "train_dataset = MemeDataset(train_df[\"text\"].tolist(), train_df[\"label\"].tolist())\n",
    "test_dataset = MemeDataset(test_df[\"text\"].tolist(), test_df[\"label\"].tolist())\n",
    "\n",
    "# Charger le modèle DistilBERT (sur CPU)\n",
    "model = DistilBertForSequenceClassification.from_pretrained(\"distilbert-base-uncased\", num_labels=2)\n",
    "model.to(device)\n",
    "\n",
    "print(train_dataset[0])"
   ],
   "id": "ed537a188a709ca5",
   "outputs": [
    {
     "name": "stderr",
     "output_type": "stream",
     "text": [
      "Some weights of DistilBertForSequenceClassification were not initialized from the model checkpoint at distilbert-base-uncased and are newly initialized: ['classifier.bias', 'classifier.weight', 'pre_classifier.bias', 'pre_classifier.weight']\n",
      "You should probably TRAIN this model on a down-stream task to be able to use it for predictions and inference.\n"
     ]
    },
    {
     "name": "stdout",
     "output_type": "stream",
     "text": [
      "{'input_ids': tensor([ 101, 6501, 6501, 5831, 2361,  102,    0,    0,    0,    0,    0,    0,\n",
      "           0,    0,    0,    0,    0,    0,    0,    0,    0,    0,    0,    0,\n",
      "           0,    0,    0,    0,    0,    0,    0,    0,    0,    0,    0,    0,\n",
      "           0,    0,    0,    0,    0,    0,    0,    0,    0,    0,    0,    0,\n",
      "           0,    0,    0,    0,    0,    0,    0,    0,    0,    0,    0,    0,\n",
      "           0,    0,    0,    0]), 'attention_mask': tensor([1, 1, 1, 1, 1, 1, 0, 0, 0, 0, 0, 0, 0, 0, 0, 0, 0, 0, 0, 0, 0, 0, 0, 0,\n",
      "        0, 0, 0, 0, 0, 0, 0, 0, 0, 0, 0, 0, 0, 0, 0, 0, 0, 0, 0, 0, 0, 0, 0, 0,\n",
      "        0, 0, 0, 0, 0, 0, 0, 0, 0, 0, 0, 0, 0, 0, 0, 0]), 'labels': tensor(0)}\n"
     ]
    }
   ],
   "execution_count": 5
  },
  {
   "metadata": {
    "ExecuteTime": {
     "end_time": "2025-03-14T00:21:14.438240Z",
     "start_time": "2025-03-13T22:45:09.106326Z"
    }
   },
   "cell_type": "code",
   "source": [
    "# Configuration de l'entraînement optimisée pour CPU\n",
    "training_args = TrainingArguments(\n",
    "    output_dir=\"./results\",\n",
    "    num_train_epochs=3,  # Réduire à 1 époque pour éviter un entraînement trop long\n",
    "    per_device_train_batch_size=4,  # Réduire pour éviter saturation mémoire\n",
    "    per_device_eval_batch_size=4,\n",
    "    warmup_steps=0,\n",
    "    weight_decay=0.01,\n",
    "    logging_dir=\"./logs\",\n",
    "    eval_strategy=\"epoch\",\n",
    "    save_strategy=\"epoch\",\n",
    "    use_cpu=True\n",
    ")\n",
    "\n",
    "trainer = Trainer(\n",
    "    model=model,\n",
    "    args=training_args,\n",
    "    train_dataset=train_dataset,\n",
    "    eval_dataset=test_dataset,\n",
    "    data_collator=default_data_collator  # Ajout de cette ligne\n",
    ")\n",
    "\n",
    "# Entraînement du modèle (cela prendra du temps sur CPU)\n",
    "trainer.train()"
   ],
   "id": "4370951f614bd027",
   "outputs": [
    {
     "data": {
      "text/plain": [
       "<IPython.core.display.HTML object>"
      ],
      "text/html": [
       "\n",
       "    <div>\n",
       "      \n",
       "      <progress value='7500' max='7500' style='width:300px; height:20px; vertical-align: middle;'></progress>\n",
       "      [7500/7500 1:36:04, Epoch 3/3]\n",
       "    </div>\n",
       "    <table border=\"1\" class=\"dataframe\">\n",
       "  <thead>\n",
       " <tr style=\"text-align: left;\">\n",
       "      <th>Epoch</th>\n",
       "      <th>Training Loss</th>\n",
       "      <th>Validation Loss</th>\n",
       "    </tr>\n",
       "  </thead>\n",
       "  <tbody>\n",
       "    <tr>\n",
       "      <td>1</td>\n",
       "      <td>0.544300</td>\n",
       "      <td>1.044397</td>\n",
       "    </tr>\n",
       "    <tr>\n",
       "      <td>2</td>\n",
       "      <td>0.474400</td>\n",
       "      <td>1.267614</td>\n",
       "    </tr>\n",
       "    <tr>\n",
       "      <td>3</td>\n",
       "      <td>0.265900</td>\n",
       "      <td>1.714216</td>\n",
       "    </tr>\n",
       "  </tbody>\n",
       "</table><p>"
      ]
     },
     "metadata": {},
     "output_type": "display_data"
    },
    {
     "data": {
      "text/plain": [
       "TrainOutput(global_step=7500, training_loss=0.42650692036946614, metrics={'train_runtime': 5765.1255, 'train_samples_per_second': 5.204, 'train_steps_per_second': 1.301, 'total_flos': 496752744960000.0, 'train_loss': 0.42650692036946614, 'epoch': 3.0})"
      ]
     },
     "execution_count": 7,
     "metadata": {},
     "output_type": "execute_result"
    }
   ],
   "execution_count": 7
  },
  {
   "metadata": {
    "ExecuteTime": {
     "end_time": "2025-03-14T00:50:58.568942Z",
     "start_time": "2025-03-14T00:50:26.122001Z"
    }
   },
   "cell_type": "code",
   "source": [
    "# Évaluation\n",
    "results = trainer.evaluate()\n",
    "print(results)\n",
    "\n",
    "# Sauvegarde du modèle\n",
    "model.save_pretrained(\"distilbert-misogyny-detector\")\n",
    "tokenizer.save_pretrained(\"distilbert-misogyny-detector\")"
   ],
   "id": "fc7ae0b810794a2e",
   "outputs": [
    {
     "data": {
      "text/plain": [
       "<IPython.core.display.HTML object>"
      ],
      "text/html": []
     },
     "metadata": {},
     "output_type": "display_data"
    },
    {
     "name": "stdout",
     "output_type": "stream",
     "text": [
      "{'eval_loss': 1.7142155170440674, 'eval_runtime': 32.0172, 'eval_samples_per_second': 31.233, 'eval_steps_per_second': 7.808, 'epoch': 3.0}\n"
     ]
    },
    {
     "data": {
      "text/plain": [
       "('distilbert-misogyny-detector\\\\tokenizer_config.json',\n",
       " 'distilbert-misogyny-detector\\\\special_tokens_map.json',\n",
       " 'distilbert-misogyny-detector\\\\vocab.txt',\n",
       " 'distilbert-misogyny-detector\\\\added_tokens.json')"
      ]
     },
     "execution_count": 8,
     "metadata": {},
     "output_type": "execute_result"
    }
   ],
   "execution_count": 8
  },
  {
   "metadata": {
    "ExecuteTime": {
     "end_time": "2025-03-14T00:52:12.955817Z",
     "start_time": "2025-03-14T00:51:41.830275Z"
    }
   },
   "cell_type": "code",
   "source": [
    "import evaluate\n",
    "\n",
    "# Charger la métrique d'accuracy\n",
    "metric = evaluate.load(\"accuracy\")\n",
    "# Fonction de calcul des métriques pour Trainer\n",
    "def compute_metrics(eval_pred):\n",
    "    logits, labels = eval_pred\n",
    "    predictions = logits.argmax(axis=-1)\n",
    "    return metric.compute(predictions=predictions, references=labels)\n",
    "\n",
    "# Réassigner la fonction au Trainer\n",
    "trainer.compute_metrics = compute_metrics\n",
    "\n",
    "# Évaluer le modèle sur le dataset de test\n",
    "results = trainer.evaluate()\n",
    "print(\"Résultats de l'évaluation :\", results)"
   ],
   "id": "78bb1b0aebe44f",
   "outputs": [
    {
     "name": "stdout",
     "output_type": "stream",
     "text": [
      "Résultats de l'évaluation : {'eval_loss': 1.7142155170440674, 'eval_accuracy': 0.644, 'eval_runtime': 30.5757, 'eval_samples_per_second': 32.706, 'eval_steps_per_second': 8.176, 'epoch': 3.0}\n"
     ]
    }
   ],
   "execution_count": 9
  },
  {
   "metadata": {
    "ExecuteTime": {
     "end_time": "2025-03-14T00:57:43.537507Z",
     "start_time": "2025-03-14T00:57:13.148743Z"
    }
   },
   "cell_type": "code",
   "source": [
    "import numpy as np\n",
    "\n",
    "# Obtenir les prédictions sur le test set\n",
    "predictions = trainer.predict(test_dataset)\n",
    "logits = predictions.predictions\n",
    "y_pred = np.argmax(logits, axis=-1)\n",
    "\n",
    "# Afficher la distribution des classes prédites\n",
    "unique, counts = np.unique(y_pred, return_counts=True)\n",
    "class_distribution = dict(zip(unique, counts))\n",
    "\n",
    "print(\"Distribution des prédictions :\", class_distribution)\n"
   ],
   "id": "a38b161c87ad2892",
   "outputs": [
    {
     "name": "stdout",
     "output_type": "stream",
     "text": [
      "Distribution des prédictions : {np.int64(0): np.int64(302), np.int64(1): np.int64(698)}\n"
     ]
    }
   ],
   "execution_count": 10
  },
  {
   "metadata": {
    "ExecuteTime": {
     "end_time": "2025-03-13T22:43:22.670851Z",
     "start_time": "2025-03-13T22:43:22.646279Z"
    }
   },
   "cell_type": "code",
   "source": [
    "# Compter le nombre d'exemples dans chaque classe dans le dataset d'entraînement\n",
    "train_label_counts = train_df[\"label\"].value_counts()\n",
    "print(\"Répartition des labels dans le dataset d'entraînement :\\n\", train_label_counts)\n"
   ],
   "id": "449c9bfa719be5f3",
   "outputs": [
    {
     "name": "stdout",
     "output_type": "stream",
     "text": [
      "Répartition des labels dans le dataset d'entraînement :\n",
      " label\n",
      "0    5000\n",
      "1    5000\n",
      "Name: count, dtype: int64\n"
     ]
    }
   ],
   "execution_count": 14
  }
 ],
 "metadata": {
  "kernelspec": {
   "display_name": "Python 3",
   "language": "python",
   "name": "python3"
  },
  "language_info": {
   "codemirror_mode": {
    "name": "ipython",
    "version": 2
   },
   "file_extension": ".py",
   "mimetype": "text/x-python",
   "name": "python",
   "nbconvert_exporter": "python",
   "pygments_lexer": "ipython2",
   "version": "2.7.6"
  }
 },
 "nbformat": 4,
 "nbformat_minor": 5
}
